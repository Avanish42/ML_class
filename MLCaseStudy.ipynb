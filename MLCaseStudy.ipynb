{
 "cells": [
  {
   "cell_type": "markdown",
   "metadata": {},
   "source": [
    "# Classification of Patients with Abnormal Blood Pressure"
   ]
  },
  {
   "cell_type": "markdown",
   "metadata": {},
   "source": [
    "### Loading required libraries"
   ]
  },
  {
   "cell_type": "code",
   "execution_count": 4,
   "metadata": {},
   "outputs": [],
   "source": [
    "%matplotlib inline\n",
    "import pandas as pd\n",
    "import matplotlib.pyplot as plt\n",
    "import numpy as np\n",
    "import os\n",
    "\n",
    "np.random.seed(7)"
   ]
  },
  {
   "cell_type": "markdown",
   "metadata": {},
   "source": [
    "### Loading training file"
   ]
  },
  {
   "cell_type": "code",
   "execution_count": 5,
   "metadata": {},
   "outputs": [],
   "source": [
    "train_path =  'patients.csv'\n",
    "train_df = pd.read_csv(train_path,',')"
   ]
  },
  {
   "cell_type": "code",
   "execution_count": null,
   "metadata": {},
   "outputs": [],
   "source": []
  },
  {
   "cell_type": "markdown",
   "metadata": {},
   "source": [
    "### Exploring the training data "
   ]
  },
  {
   "cell_type": "markdown",
   "metadata": {},
   "source": [
    "Getting the dimension of the data, along with the data types. "
   ]
  },
  {
   "cell_type": "code",
   "execution_count": 6,
   "metadata": {},
   "outputs": [
    {
     "name": "stdout",
     "output_type": "stream",
     "text": [
      "Dimension of data :\n",
      "(2000, 15)\n",
      "\n"
     ]
    }
   ],
   "source": [
    "print('Dimension of data :')\n",
    "print(train_df.shape)\n",
    "print('')"
   ]
  },
  {
   "cell_type": "code",
   "execution_count": 7,
   "metadata": {},
   "outputs": [
    {
     "data": {
      "text/plain": [
       "Patient_Number                     int64\n",
       "Blood_Pressure_Abnormality         int64\n",
       "Level_of_Hemoglobin              float64\n",
       "Genetic_Pedigree_Coefficient     float64\n",
       "Age                                int64\n",
       "BMI                                int64\n",
       "Sex                                int64\n",
       "Pregnancy                        float64\n",
       "Smoking                            int64\n",
       "Physical_activity                  int64\n",
       "salt_content_in_the_diet           int64\n",
       "alcohol_consumption_per_day      float64\n",
       "Level_of_Stress                    int64\n",
       "Chronic_kidney_disease             int64\n",
       "Adrenal_and_thyroid_disorders      int64\n",
       "dtype: object"
      ]
     },
     "execution_count": 7,
     "metadata": {},
     "output_type": "execute_result"
    }
   ],
   "source": [
    "train_df.dtypes\n"
   ]
  },
  {
   "cell_type": "code",
   "execution_count": 8,
   "metadata": {},
   "outputs": [
    {
     "data": {
      "text/html": [
       "<div>\n",
       "<style>\n",
       "    .dataframe thead tr:only-child th {\n",
       "        text-align: right;\n",
       "    }\n",
       "\n",
       "    .dataframe thead th {\n",
       "        text-align: left;\n",
       "    }\n",
       "\n",
       "    .dataframe tbody tr th {\n",
       "        vertical-align: top;\n",
       "    }\n",
       "</style>\n",
       "<table border=\"1\" class=\"dataframe\">\n",
       "  <thead>\n",
       "    <tr style=\"text-align: right;\">\n",
       "      <th></th>\n",
       "      <th>Patient_Number</th>\n",
       "      <th>Blood_Pressure_Abnormality</th>\n",
       "      <th>Level_of_Hemoglobin</th>\n",
       "      <th>Genetic_Pedigree_Coefficient</th>\n",
       "      <th>Age</th>\n",
       "      <th>BMI</th>\n",
       "      <th>Sex</th>\n",
       "      <th>Pregnancy</th>\n",
       "      <th>Smoking</th>\n",
       "      <th>Physical_activity</th>\n",
       "      <th>salt_content_in_the_diet</th>\n",
       "      <th>alcohol_consumption_per_day</th>\n",
       "      <th>Level_of_Stress</th>\n",
       "      <th>Chronic_kidney_disease</th>\n",
       "      <th>Adrenal_and_thyroid_disorders</th>\n",
       "    </tr>\n",
       "  </thead>\n",
       "  <tbody>\n",
       "    <tr>\n",
       "      <th>0</th>\n",
       "      <td>1</td>\n",
       "      <td>1</td>\n",
       "      <td>11.28</td>\n",
       "      <td>100.00</td>\n",
       "      <td>34</td>\n",
       "      <td>23</td>\n",
       "      <td>1</td>\n",
       "      <td>1.0</td>\n",
       "      <td>0</td>\n",
       "      <td>45961</td>\n",
       "      <td>48071</td>\n",
       "      <td>NaN</td>\n",
       "      <td>2</td>\n",
       "      <td>1</td>\n",
       "      <td>1</td>\n",
       "    </tr>\n",
       "    <tr>\n",
       "      <th>1</th>\n",
       "      <td>2</td>\n",
       "      <td>0</td>\n",
       "      <td>9.75</td>\n",
       "      <td>0.23</td>\n",
       "      <td>54</td>\n",
       "      <td>33</td>\n",
       "      <td>1</td>\n",
       "      <td>NaN</td>\n",
       "      <td>0</td>\n",
       "      <td>26106</td>\n",
       "      <td>25333</td>\n",
       "      <td>205.0</td>\n",
       "      <td>3</td>\n",
       "      <td>0</td>\n",
       "      <td>0</td>\n",
       "    </tr>\n",
       "    <tr>\n",
       "      <th>2</th>\n",
       "      <td>3</td>\n",
       "      <td>1</td>\n",
       "      <td>10.79</td>\n",
       "      <td>0.91</td>\n",
       "      <td>70</td>\n",
       "      <td>49</td>\n",
       "      <td>0</td>\n",
       "      <td>NaN</td>\n",
       "      <td>0</td>\n",
       "      <td>9995</td>\n",
       "      <td>29465</td>\n",
       "      <td>67.0</td>\n",
       "      <td>2</td>\n",
       "      <td>1</td>\n",
       "      <td>0</td>\n",
       "    </tr>\n",
       "    <tr>\n",
       "      <th>3</th>\n",
       "      <td>4</td>\n",
       "      <td>0</td>\n",
       "      <td>11.00</td>\n",
       "      <td>0.43</td>\n",
       "      <td>71</td>\n",
       "      <td>50</td>\n",
       "      <td>0</td>\n",
       "      <td>NaN</td>\n",
       "      <td>0</td>\n",
       "      <td>10635</td>\n",
       "      <td>7439</td>\n",
       "      <td>242.0</td>\n",
       "      <td>1</td>\n",
       "      <td>1</td>\n",
       "      <td>0</td>\n",
       "    </tr>\n",
       "    <tr>\n",
       "      <th>4</th>\n",
       "      <td>5</td>\n",
       "      <td>1</td>\n",
       "      <td>14.17</td>\n",
       "      <td>0.83</td>\n",
       "      <td>52</td>\n",
       "      <td>19</td>\n",
       "      <td>0</td>\n",
       "      <td>NaN</td>\n",
       "      <td>0</td>\n",
       "      <td>15619</td>\n",
       "      <td>49644</td>\n",
       "      <td>397.0</td>\n",
       "      <td>2</td>\n",
       "      <td>0</td>\n",
       "      <td>0</td>\n",
       "    </tr>\n",
       "    <tr>\n",
       "      <th>5</th>\n",
       "      <td>6</td>\n",
       "      <td>0</td>\n",
       "      <td>11.64</td>\n",
       "      <td>0.54</td>\n",
       "      <td>23</td>\n",
       "      <td>48</td>\n",
       "      <td>0</td>\n",
       "      <td>NaN</td>\n",
       "      <td>1</td>\n",
       "      <td>27042</td>\n",
       "      <td>7513</td>\n",
       "      <td>NaN</td>\n",
       "      <td>3</td>\n",
       "      <td>0</td>\n",
       "      <td>0</td>\n",
       "    </tr>\n",
       "    <tr>\n",
       "      <th>6</th>\n",
       "      <td>7</td>\n",
       "      <td>1</td>\n",
       "      <td>11.69</td>\n",
       "      <td>0.75</td>\n",
       "      <td>43</td>\n",
       "      <td>41</td>\n",
       "      <td>1</td>\n",
       "      <td>1.0</td>\n",
       "      <td>0</td>\n",
       "      <td>38369</td>\n",
       "      <td>32967</td>\n",
       "      <td>206.0</td>\n",
       "      <td>3</td>\n",
       "      <td>1</td>\n",
       "      <td>1</td>\n",
       "    </tr>\n",
       "    <tr>\n",
       "      <th>7</th>\n",
       "      <td>8</td>\n",
       "      <td>0</td>\n",
       "      <td>12.70</td>\n",
       "      <td>0.41</td>\n",
       "      <td>48</td>\n",
       "      <td>20</td>\n",
       "      <td>0</td>\n",
       "      <td>NaN</td>\n",
       "      <td>0</td>\n",
       "      <td>29781</td>\n",
       "      <td>26749</td>\n",
       "      <td>134.0</td>\n",
       "      <td>2</td>\n",
       "      <td>0</td>\n",
       "      <td>0</td>\n",
       "    </tr>\n",
       "    <tr>\n",
       "      <th>8</th>\n",
       "      <td>9</td>\n",
       "      <td>0</td>\n",
       "      <td>10.88</td>\n",
       "      <td>0.68</td>\n",
       "      <td>72</td>\n",
       "      <td>44</td>\n",
       "      <td>0</td>\n",
       "      <td>NaN</td>\n",
       "      <td>0</td>\n",
       "      <td>814</td>\n",
       "      <td>9607</td>\n",
       "      <td>99.0</td>\n",
       "      <td>3</td>\n",
       "      <td>0</td>\n",
       "      <td>0</td>\n",
       "    </tr>\n",
       "    <tr>\n",
       "      <th>9</th>\n",
       "      <td>10</td>\n",
       "      <td>1</td>\n",
       "      <td>14.56</td>\n",
       "      <td>0.61</td>\n",
       "      <td>40</td>\n",
       "      <td>44</td>\n",
       "      <td>0</td>\n",
       "      <td>NaN</td>\n",
       "      <td>0</td>\n",
       "      <td>1278</td>\n",
       "      <td>12715</td>\n",
       "      <td>95.0</td>\n",
       "      <td>2</td>\n",
       "      <td>0</td>\n",
       "      <td>0</td>\n",
       "    </tr>\n",
       "  </tbody>\n",
       "</table>\n",
       "</div>"
      ],
      "text/plain": [
       "   Patient_Number  Blood_Pressure_Abnormality  Level_of_Hemoglobin  \\\n",
       "0               1                           1                11.28   \n",
       "1               2                           0                 9.75   \n",
       "2               3                           1                10.79   \n",
       "3               4                           0                11.00   \n",
       "4               5                           1                14.17   \n",
       "5               6                           0                11.64   \n",
       "6               7                           1                11.69   \n",
       "7               8                           0                12.70   \n",
       "8               9                           0                10.88   \n",
       "9              10                           1                14.56   \n",
       "\n",
       "   Genetic_Pedigree_Coefficient  Age  BMI  Sex  Pregnancy  Smoking  \\\n",
       "0                        100.00   34   23    1        1.0        0   \n",
       "1                          0.23   54   33    1        NaN        0   \n",
       "2                          0.91   70   49    0        NaN        0   \n",
       "3                          0.43   71   50    0        NaN        0   \n",
       "4                          0.83   52   19    0        NaN        0   \n",
       "5                          0.54   23   48    0        NaN        1   \n",
       "6                          0.75   43   41    1        1.0        0   \n",
       "7                          0.41   48   20    0        NaN        0   \n",
       "8                          0.68   72   44    0        NaN        0   \n",
       "9                          0.61   40   44    0        NaN        0   \n",
       "\n",
       "   Physical_activity  salt_content_in_the_diet  alcohol_consumption_per_day  \\\n",
       "0              45961                     48071                          NaN   \n",
       "1              26106                     25333                        205.0   \n",
       "2               9995                     29465                         67.0   \n",
       "3              10635                      7439                        242.0   \n",
       "4              15619                     49644                        397.0   \n",
       "5              27042                      7513                          NaN   \n",
       "6              38369                     32967                        206.0   \n",
       "7              29781                     26749                        134.0   \n",
       "8                814                      9607                         99.0   \n",
       "9               1278                     12715                         95.0   \n",
       "\n",
       "   Level_of_Stress  Chronic_kidney_disease  Adrenal_and_thyroid_disorders  \n",
       "0                2                       1                              1  \n",
       "1                3                       0                              0  \n",
       "2                2                       1                              0  \n",
       "3                1                       1                              0  \n",
       "4                2                       0                              0  \n",
       "5                3                       0                              0  \n",
       "6                3                       1                              1  \n",
       "7                2                       0                              0  \n",
       "8                3                       0                              0  \n",
       "9                2                       0                              0  "
      ]
     },
     "execution_count": 8,
     "metadata": {},
     "output_type": "execute_result"
    }
   ],
   "source": [
    "train_df.head(10)"
   ]
  },
  {
   "cell_type": "code",
   "execution_count": 9,
   "metadata": {},
   "outputs": [
    {
     "data": {
      "text/html": [
       "<div>\n",
       "<style>\n",
       "    .dataframe thead tr:only-child th {\n",
       "        text-align: right;\n",
       "    }\n",
       "\n",
       "    .dataframe thead th {\n",
       "        text-align: left;\n",
       "    }\n",
       "\n",
       "    .dataframe tbody tr th {\n",
       "        vertical-align: top;\n",
       "    }\n",
       "</style>\n",
       "<table border=\"1\" class=\"dataframe\">\n",
       "  <thead>\n",
       "    <tr style=\"text-align: right;\">\n",
       "      <th></th>\n",
       "      <th>Patient_Number</th>\n",
       "      <th>Blood_Pressure_Abnormality</th>\n",
       "      <th>Level_of_Hemoglobin</th>\n",
       "      <th>Genetic_Pedigree_Coefficient</th>\n",
       "      <th>Age</th>\n",
       "      <th>BMI</th>\n",
       "      <th>Sex</th>\n",
       "      <th>Pregnancy</th>\n",
       "      <th>Smoking</th>\n",
       "      <th>Physical_activity</th>\n",
       "      <th>salt_content_in_the_diet</th>\n",
       "      <th>alcohol_consumption_per_day</th>\n",
       "      <th>Level_of_Stress</th>\n",
       "      <th>Chronic_kidney_disease</th>\n",
       "      <th>Adrenal_and_thyroid_disorders</th>\n",
       "    </tr>\n",
       "  </thead>\n",
       "  <tbody>\n",
       "    <tr>\n",
       "      <th>count</th>\n",
       "      <td>2000.000000</td>\n",
       "      <td>2000.000000</td>\n",
       "      <td>2000.000000</td>\n",
       "      <td>1908.000000</td>\n",
       "      <td>2000.000000</td>\n",
       "      <td>2000.000000</td>\n",
       "      <td>2000.000000</td>\n",
       "      <td>442.000000</td>\n",
       "      <td>2000.000000</td>\n",
       "      <td>2000.000000</td>\n",
       "      <td>2000.000000</td>\n",
       "      <td>1758.000000</td>\n",
       "      <td>2000.000000</td>\n",
       "      <td>2000.0000</td>\n",
       "      <td>2000.000000</td>\n",
       "    </tr>\n",
       "    <tr>\n",
       "      <th>mean</th>\n",
       "      <td>1000.500000</td>\n",
       "      <td>0.494000</td>\n",
       "      <td>11.710035</td>\n",
       "      <td>0.546756</td>\n",
       "      <td>46.558500</td>\n",
       "      <td>30.081500</td>\n",
       "      <td>0.496000</td>\n",
       "      <td>0.450226</td>\n",
       "      <td>0.509500</td>\n",
       "      <td>25254.424500</td>\n",
       "      <td>24926.097000</td>\n",
       "      <td>251.008532</td>\n",
       "      <td>2.012500</td>\n",
       "      <td>0.5050</td>\n",
       "      <td>0.443500</td>\n",
       "    </tr>\n",
       "    <tr>\n",
       "      <th>std</th>\n",
       "      <td>577.494589</td>\n",
       "      <td>0.500089</td>\n",
       "      <td>2.186701</td>\n",
       "      <td>2.296605</td>\n",
       "      <td>17.107832</td>\n",
       "      <td>11.761208</td>\n",
       "      <td>0.500109</td>\n",
       "      <td>0.498080</td>\n",
       "      <td>0.500035</td>\n",
       "      <td>14015.439623</td>\n",
       "      <td>14211.692586</td>\n",
       "      <td>143.651884</td>\n",
       "      <td>0.823822</td>\n",
       "      <td>0.5001</td>\n",
       "      <td>0.496922</td>\n",
       "    </tr>\n",
       "    <tr>\n",
       "      <th>min</th>\n",
       "      <td>1.000000</td>\n",
       "      <td>0.000000</td>\n",
       "      <td>8.100000</td>\n",
       "      <td>0.000000</td>\n",
       "      <td>18.000000</td>\n",
       "      <td>10.000000</td>\n",
       "      <td>0.000000</td>\n",
       "      <td>0.000000</td>\n",
       "      <td>0.000000</td>\n",
       "      <td>628.000000</td>\n",
       "      <td>22.000000</td>\n",
       "      <td>0.000000</td>\n",
       "      <td>1.000000</td>\n",
       "      <td>0.0000</td>\n",
       "      <td>0.000000</td>\n",
       "    </tr>\n",
       "    <tr>\n",
       "      <th>25%</th>\n",
       "      <td>500.750000</td>\n",
       "      <td>0.000000</td>\n",
       "      <td>10.147500</td>\n",
       "      <td>0.240000</td>\n",
       "      <td>32.000000</td>\n",
       "      <td>20.000000</td>\n",
       "      <td>0.000000</td>\n",
       "      <td>0.000000</td>\n",
       "      <td>0.000000</td>\n",
       "      <td>13605.750000</td>\n",
       "      <td>13151.750000</td>\n",
       "      <td>126.250000</td>\n",
       "      <td>1.000000</td>\n",
       "      <td>0.0000</td>\n",
       "      <td>0.000000</td>\n",
       "    </tr>\n",
       "    <tr>\n",
       "      <th>50%</th>\n",
       "      <td>1000.500000</td>\n",
       "      <td>0.000000</td>\n",
       "      <td>11.330000</td>\n",
       "      <td>0.490000</td>\n",
       "      <td>46.000000</td>\n",
       "      <td>30.000000</td>\n",
       "      <td>0.000000</td>\n",
       "      <td>0.000000</td>\n",
       "      <td>1.000000</td>\n",
       "      <td>25353.000000</td>\n",
       "      <td>25046.500000</td>\n",
       "      <td>250.000000</td>\n",
       "      <td>2.000000</td>\n",
       "      <td>1.0000</td>\n",
       "      <td>0.000000</td>\n",
       "    </tr>\n",
       "    <tr>\n",
       "      <th>75%</th>\n",
       "      <td>1500.250000</td>\n",
       "      <td>1.000000</td>\n",
       "      <td>12.945000</td>\n",
       "      <td>0.740000</td>\n",
       "      <td>62.000000</td>\n",
       "      <td>40.000000</td>\n",
       "      <td>1.000000</td>\n",
       "      <td>1.000000</td>\n",
       "      <td>1.000000</td>\n",
       "      <td>37382.250000</td>\n",
       "      <td>36839.750000</td>\n",
       "      <td>377.750000</td>\n",
       "      <td>3.000000</td>\n",
       "      <td>1.0000</td>\n",
       "      <td>1.000000</td>\n",
       "    </tr>\n",
       "    <tr>\n",
       "      <th>max</th>\n",
       "      <td>2000.000000</td>\n",
       "      <td>1.000000</td>\n",
       "      <td>17.560000</td>\n",
       "      <td>100.000000</td>\n",
       "      <td>75.000000</td>\n",
       "      <td>50.000000</td>\n",
       "      <td>1.000000</td>\n",
       "      <td>1.000000</td>\n",
       "      <td>1.000000</td>\n",
       "      <td>49980.000000</td>\n",
       "      <td>49976.000000</td>\n",
       "      <td>499.000000</td>\n",
       "      <td>3.000000</td>\n",
       "      <td>1.0000</td>\n",
       "      <td>1.000000</td>\n",
       "    </tr>\n",
       "  </tbody>\n",
       "</table>\n",
       "</div>"
      ],
      "text/plain": [
       "       Patient_Number  Blood_Pressure_Abnormality  Level_of_Hemoglobin  \\\n",
       "count     2000.000000                 2000.000000          2000.000000   \n",
       "mean      1000.500000                    0.494000            11.710035   \n",
       "std        577.494589                    0.500089             2.186701   \n",
       "min          1.000000                    0.000000             8.100000   \n",
       "25%        500.750000                    0.000000            10.147500   \n",
       "50%       1000.500000                    0.000000            11.330000   \n",
       "75%       1500.250000                    1.000000            12.945000   \n",
       "max       2000.000000                    1.000000            17.560000   \n",
       "\n",
       "       Genetic_Pedigree_Coefficient          Age          BMI          Sex  \\\n",
       "count                   1908.000000  2000.000000  2000.000000  2000.000000   \n",
       "mean                       0.546756    46.558500    30.081500     0.496000   \n",
       "std                        2.296605    17.107832    11.761208     0.500109   \n",
       "min                        0.000000    18.000000    10.000000     0.000000   \n",
       "25%                        0.240000    32.000000    20.000000     0.000000   \n",
       "50%                        0.490000    46.000000    30.000000     0.000000   \n",
       "75%                        0.740000    62.000000    40.000000     1.000000   \n",
       "max                      100.000000    75.000000    50.000000     1.000000   \n",
       "\n",
       "        Pregnancy      Smoking  Physical_activity  salt_content_in_the_diet  \\\n",
       "count  442.000000  2000.000000        2000.000000               2000.000000   \n",
       "mean     0.450226     0.509500       25254.424500              24926.097000   \n",
       "std      0.498080     0.500035       14015.439623              14211.692586   \n",
       "min      0.000000     0.000000         628.000000                 22.000000   \n",
       "25%      0.000000     0.000000       13605.750000              13151.750000   \n",
       "50%      0.000000     1.000000       25353.000000              25046.500000   \n",
       "75%      1.000000     1.000000       37382.250000              36839.750000   \n",
       "max      1.000000     1.000000       49980.000000              49976.000000   \n",
       "\n",
       "       alcohol_consumption_per_day  Level_of_Stress  Chronic_kidney_disease  \\\n",
       "count                  1758.000000      2000.000000               2000.0000   \n",
       "mean                    251.008532         2.012500                  0.5050   \n",
       "std                     143.651884         0.823822                  0.5001   \n",
       "min                       0.000000         1.000000                  0.0000   \n",
       "25%                     126.250000         1.000000                  0.0000   \n",
       "50%                     250.000000         2.000000                  1.0000   \n",
       "75%                     377.750000         3.000000                  1.0000   \n",
       "max                     499.000000         3.000000                  1.0000   \n",
       "\n",
       "       Adrenal_and_thyroid_disorders  \n",
       "count                    2000.000000  \n",
       "mean                        0.443500  \n",
       "std                         0.496922  \n",
       "min                         0.000000  \n",
       "25%                         0.000000  \n",
       "50%                         0.000000  \n",
       "75%                         1.000000  \n",
       "max                         1.000000  "
      ]
     },
     "execution_count": 9,
     "metadata": {},
     "output_type": "execute_result"
    }
   ],
   "source": [
    "train_df.describe()"
   ]
  },
  {
   "cell_type": "markdown",
   "metadata": {},
   "source": [
    "As we can see from the current data description, there are few features from which data is missing like Genetic_Pedigree_Coefficient , Pregnancy etc."
   ]
  },
  {
   "cell_type": "markdown",
   "metadata": {},
   "source": [
    "#### Checking if data is skewed or not ?"
   ]
  },
  {
   "cell_type": "code",
   "execution_count": 10,
   "metadata": {},
   "outputs": [
    {
     "data": {
      "text/plain": [
       "[1, 0, 1, 0, 1, ..., 1, 1, 1, 0, 1]\n",
       "Length: 2000\n",
       "Categories (2, int64): [0, 1]"
      ]
     },
     "execution_count": 10,
     "metadata": {},
     "output_type": "execute_result"
    }
   ],
   "source": [
    "abnormality = pd.Categorical(train_df[\"Blood_Pressure_Abnormality\"])\n",
    "abnormality"
   ]
  },
  {
   "cell_type": "code",
   "execution_count": 11,
   "metadata": {},
   "outputs": [
    {
     "data": {
      "text/html": [
       "<div>\n",
       "<style>\n",
       "    .dataframe thead tr:only-child th {\n",
       "        text-align: right;\n",
       "    }\n",
       "\n",
       "    .dataframe thead th {\n",
       "        text-align: left;\n",
       "    }\n",
       "\n",
       "    .dataframe tbody tr th {\n",
       "        vertical-align: top;\n",
       "    }\n",
       "</style>\n",
       "<table border=\"1\" class=\"dataframe\">\n",
       "  <thead>\n",
       "    <tr style=\"text-align: right;\">\n",
       "      <th></th>\n",
       "      <th>counts</th>\n",
       "      <th>freqs</th>\n",
       "    </tr>\n",
       "    <tr>\n",
       "      <th>categories</th>\n",
       "      <th></th>\n",
       "      <th></th>\n",
       "    </tr>\n",
       "  </thead>\n",
       "  <tbody>\n",
       "    <tr>\n",
       "      <th>Normal</th>\n",
       "      <td>1012</td>\n",
       "      <td>0.506</td>\n",
       "    </tr>\n",
       "    <tr>\n",
       "      <th>Abnormal</th>\n",
       "      <td>988</td>\n",
       "      <td>0.494</td>\n",
       "    </tr>\n",
       "  </tbody>\n",
       "</table>\n",
       "</div>"
      ],
      "text/plain": [
       "            counts  freqs\n",
       "categories               \n",
       "Normal        1012  0.506\n",
       "Abnormal       988  0.494"
      ]
     },
     "execution_count": 11,
     "metadata": {},
     "output_type": "execute_result"
    }
   ],
   "source": [
    "abnormality = pd.Categorical(train_df[\"Blood_Pressure_Abnormality\"])\n",
    "abnormality = abnormality.rename_categories([\"Normal\",\"Abnormal\"])\n",
    "abnormality.describe()"
   ]
  },
  {
   "cell_type": "markdown",
   "metadata": {},
   "source": [
    "Data seems to be equally distributed in the 2 classes."
   ]
  },
  {
   "cell_type": "code",
   "execution_count": 12,
   "metadata": {},
   "outputs": [
    {
     "data": {
      "text/plain": [
       "(array([  23,   44,   56,   68,   85,  102,  132,  149,  175,  187,  201,\n",
       "         227,  233,  247,  277,  292,  339,  352,  397,  432,  438,  460,\n",
       "         473,  491,  496,  503,  518,  526,  547,  565,  578,  652,  661,\n",
       "         670,  684,  753,  756,  792,  833,  843,  873,  878,  894,  903,\n",
       "         906,  925,  941,  944,  987, 1005, 1014, 1030, 1052, 1056, 1067,\n",
       "        1074, 1125, 1127, 1133, 1147, 1166, 1178, 1188, 1196, 1210, 1267,\n",
       "        1277, 1281, 1287, 1311, 1333, 1348, 1356, 1381, 1409, 1467, 1525,\n",
       "        1563, 1570, 1593, 1701, 1712, 1721, 1739, 1751, 1855, 1857, 1907,\n",
       "        1921, 1964, 1972, 1984]),)"
      ]
     },
     "execution_count": 12,
     "metadata": {},
     "output_type": "execute_result"
    }
   ],
   "source": [
    "Fill_train_df = train_df.copy(deep=True)\n",
    "\n",
    "missing_Gen_Info = np.where(Fill_train_df[\"Genetic_Pedigree_Coefficient\"].isnull() == True)\n",
    "missing_Gen_Info"
   ]
  },
  {
   "cell_type": "code",
   "execution_count": 13,
   "metadata": {},
   "outputs": [
    {
     "name": "stdout",
     "output_type": "stream",
     "text": [
      "92\n"
     ]
    }
   ],
   "source": [
    "print(len(missing_Gen_Info[0]))\n"
   ]
  },
  {
   "cell_type": "markdown",
   "metadata": {},
   "source": [
    "##### Looking for outliers.."
   ]
  },
  {
   "cell_type": "code",
   "execution_count": 14,
   "metadata": {},
   "outputs": [
    {
     "data": {
      "text/plain": [
       "array([[<matplotlib.axes._subplots.AxesSubplot object at 0x7f4ac42d2f60>]],\n",
       "      dtype=object)"
      ]
     },
     "execution_count": 14,
     "metadata": {},
     "output_type": "execute_result"
    },
    {
     "data": {
      "image/png": "[encoded data removed]",
      "text/plain": [
       "<matplotlib.figure.Figure at 0x7f4ac42c09e8>"
      ]
     },
     "metadata": {
      "needs_background": "light"
     },
     "output_type": "display_data"
    }
   ],
   "source": [
    "train_df.hist(column='Genetic_Pedigree_Coefficient',bins=100)"
   ]
  },
  {
   "cell_type": "code",
   "execution_count": 15,
   "metadata": {},
   "outputs": [
    {
     "data": {
      "text/plain": [
       "array([[<matplotlib.axes._subplots.AxesSubplot object at 0x7f4ac4193d30>]],\n",
       "      dtype=object)"
      ]
     },
     "execution_count": 15,
     "metadata": {},
     "output_type": "execute_result"
    },
    {
     "data": {
      "image/png": "[encoded data removed]",
      "text/plain": [
       "<matplotlib.figure.Figure at 0x7f4ac42c0ba8>"
      ]
     },
     "metadata": {
      "needs_background": "light"
     },
     "output_type": "display_data"
    }
   ],
   "source": [
    "train_df.hist(column='Level_of_Hemoglobin',bins=100)"
   ]
  },
  {
   "cell_type": "markdown",
   "metadata": {},
   "source": [
    "##### Filling missing data.."
   ]
  },
  {
   "cell_type": "markdown",
   "metadata": {},
   "source": [
    "Filling missing data with the mean"
   ]
  },
  {
   "cell_type": "code",
   "execution_count": 16,
   "metadata": {},
   "outputs": [],
   "source": [
    "gen = np.where(Fill_train_df[\"Genetic_Pedigree_Coefficient\"].isnull(), \n",
    "                       0.49,                    \n",
    "                       Fill_train_df[\"Genetic_Pedigree_Coefficient\"])"
   ]
  },
  {
   "cell_type": "code",
   "execution_count": 17,
   "metadata": {},
   "outputs": [
    {
     "data": {
      "text/plain": [
       "array([1.0e+02, 2.3e-01, 9.1e-01, ..., 2.2e-01, 7.2e-01, 9.0e-02])"
      ]
     },
     "execution_count": 17,
     "metadata": {},
     "output_type": "execute_result"
    }
   ],
   "source": [
    "Fill_train_df[\"Genetic_Pedigree_Coefficient\"] = gen \n",
    "gen\n",
    "\n",
    "# Fill_train_df[\"Genetic_Pedigree_Coefficient\"].describe()"
   ]
  },
  {
   "cell_type": "code",
   "execution_count": 18,
   "metadata": {},
   "outputs": [
    {
     "data": {
      "text/plain": [
       "array([[<matplotlib.axes._subplots.AxesSubplot object at 0x7f4ac0880c88>]],\n",
       "      dtype=object)"
      ]
     },
     "execution_count": 18,
     "metadata": {},
     "output_type": "execute_result"
    },
    {
     "data": {
      "image/png": "[encoded data removed]",
      "text/plain": [
       "<matplotlib.figure.Figure at 0x7f4ac42c0f60>"
      ]
     },
     "metadata": {
      "needs_background": "light"
     },
     "output_type": "display_data"
    }
   ],
   "source": [
    "Fill_train_df.hist(column='Genetic_Pedigree_Coefficient',bins=100)"
   ]
  },
  {
   "cell_type": "code",
   "execution_count": 19,
   "metadata": {},
   "outputs": [
    {
     "data": {
      "text/plain": [
       "count    1908.000000\n",
       "mean        0.546756\n",
       "std         2.296605\n",
       "min         0.000000\n",
       "25%         0.240000\n",
       "50%         0.490000\n",
       "75%         0.740000\n",
       "max       100.000000\n",
       "Name: Genetic_Pedigree_Coefficient, dtype: float64"
      ]
     },
     "execution_count": 19,
     "metadata": {},
     "output_type": "execute_result"
    }
   ],
   "source": [
    "train_df[\"Genetic_Pedigree_Coefficient\"].describe()"
   ]
  },
  {
   "cell_type": "code",
   "execution_count": 20,
   "metadata": {},
   "outputs": [
    {
     "data": {
      "text/plain": [
       "<matplotlib.axes._subplots.AxesSubplot at 0x7f4ac06e0d68>"
      ]
     },
     "execution_count": 20,
     "metadata": {},
     "output_type": "execute_result"
    },
    {
     "data": {
      "image/png": "[encoded data removed]",
      "text/plain": [
       "<matplotlib.figure.Figure at 0x7f4ac0715ba8>"
      ]
     },
     "metadata": {
      "needs_background": "light"
     },
     "output_type": "display_data"
    }
   ],
   "source": [
    "Fill_train_df[\"Level_of_Hemoglobin\"].plot(kind=\"box\")"
   ]
  },
  {
   "cell_type": "code",
   "execution_count": 21,
   "metadata": {},
   "outputs": [
    {
     "data": {
      "text/plain": [
       "<matplotlib.axes._subplots.AxesSubplot at 0x7f4ac05ebc50>"
      ]
     },
     "execution_count": 21,
     "metadata": {},
     "output_type": "execute_result"
    },
    {
     "data": {
      "image/png": "[encoded data removed]",
      "text/plain": [
       "<matplotlib.figure.Figure at 0x7f4ac061ccc0>"
      ]
     },
     "metadata": {
      "needs_background": "light"
     },
     "output_type": "display_data"
    }
   ],
   "source": [
    "Fill_train_df[\"Genetic_Pedigree_Coefficient\"].plot(kind=\"box\")"
   ]
  },
  {
   "cell_type": "markdown",
   "metadata": {},
   "source": [
    "### Removing whole rows with missing data.."
   ]
  },
  {
   "cell_type": "markdown",
   "metadata": {},
   "source": [
    "As we can see in the above plot of Genetic_Pedigree_Coefficient that after filling the missing values with mean, it is more concentrated in the centre. As this may cause some problems while training, thus it is better to remove the whole records. The number of missing records are less than 5% thus it won't cause much issue."
   ]
  },
  {
   "cell_type": "code",
   "execution_count": 22,
   "metadata": {},
   "outputs": [],
   "source": [
    "train_df_missinValues = train_df.copy(deep=True)\n",
    "train_df_missinValues = train_df_missinValues.loc[:,:'Genetic_Pedigree_Coefficient']\n",
    "train_df_missinValues = train_df_missinValues.dropna(axis = 0)"
   ]
  },
  {
   "cell_type": "code",
   "execution_count": 23,
   "metadata": {},
   "outputs": [
    {
     "data": {
      "text/html": [
       "<div>\n",
       "<style>\n",
       "    .dataframe thead tr:only-child th {\n",
       "        text-align: right;\n",
       "    }\n",
       "\n",
       "    .dataframe thead th {\n",
       "        text-align: left;\n",
       "    }\n",
       "\n",
       "    .dataframe tbody tr th {\n",
       "        vertical-align: top;\n",
       "    }\n",
       "</style>\n",
       "<table border=\"1\" class=\"dataframe\">\n",
       "  <thead>\n",
       "    <tr style=\"text-align: right;\">\n",
       "      <th></th>\n",
       "      <th>Patient_Number</th>\n",
       "      <th>Blood_Pressure_Abnormality</th>\n",
       "      <th>Level_of_Hemoglobin</th>\n",
       "      <th>Genetic_Pedigree_Coefficient</th>\n",
       "    </tr>\n",
       "  </thead>\n",
       "  <tbody>\n",
       "    <tr>\n",
       "      <th>count</th>\n",
       "      <td>1908.000000</td>\n",
       "      <td>1908.000000</td>\n",
       "      <td>1908.000000</td>\n",
       "      <td>1908.000000</td>\n",
       "    </tr>\n",
       "    <tr>\n",
       "      <th>mean</th>\n",
       "      <td>1003.972746</td>\n",
       "      <td>0.502096</td>\n",
       "      <td>11.706887</td>\n",
       "      <td>0.546756</td>\n",
       "    </tr>\n",
       "    <tr>\n",
       "      <th>std</th>\n",
       "      <td>578.751254</td>\n",
       "      <td>0.500127</td>\n",
       "      <td>2.183418</td>\n",
       "      <td>2.296605</td>\n",
       "    </tr>\n",
       "    <tr>\n",
       "      <th>min</th>\n",
       "      <td>1.000000</td>\n",
       "      <td>0.000000</td>\n",
       "      <td>8.100000</td>\n",
       "      <td>0.000000</td>\n",
       "    </tr>\n",
       "    <tr>\n",
       "      <th>25%</th>\n",
       "      <td>502.750000</td>\n",
       "      <td>0.000000</td>\n",
       "      <td>10.140000</td>\n",
       "      <td>0.240000</td>\n",
       "    </tr>\n",
       "    <tr>\n",
       "      <th>50%</th>\n",
       "      <td>1003.500000</td>\n",
       "      <td>1.000000</td>\n",
       "      <td>11.330000</td>\n",
       "      <td>0.490000</td>\n",
       "    </tr>\n",
       "    <tr>\n",
       "      <th>75%</th>\n",
       "      <td>1507.250000</td>\n",
       "      <td>1.000000</td>\n",
       "      <td>12.925000</td>\n",
       "      <td>0.740000</td>\n",
       "    </tr>\n",
       "    <tr>\n",
       "      <th>max</th>\n",
       "      <td>2000.000000</td>\n",
       "      <td>1.000000</td>\n",
       "      <td>17.560000</td>\n",
       "      <td>100.000000</td>\n",
       "    </tr>\n",
       "  </tbody>\n",
       "</table>\n",
       "</div>"
      ],
      "text/plain": [
       "       Patient_Number  Blood_Pressure_Abnormality  Level_of_Hemoglobin  \\\n",
       "count     1908.000000                 1908.000000          1908.000000   \n",
       "mean      1003.972746                    0.502096            11.706887   \n",
       "std        578.751254                    0.500127             2.183418   \n",
       "min          1.000000                    0.000000             8.100000   \n",
       "25%        502.750000                    0.000000            10.140000   \n",
       "50%       1003.500000                    1.000000            11.330000   \n",
       "75%       1507.250000                    1.000000            12.925000   \n",
       "max       2000.000000                    1.000000            17.560000   \n",
       "\n",
       "       Genetic_Pedigree_Coefficient  \n",
       "count                   1908.000000  \n",
       "mean                       0.546756  \n",
       "std                        2.296605  \n",
       "min                        0.000000  \n",
       "25%                        0.240000  \n",
       "50%                        0.490000  \n",
       "75%                        0.740000  \n",
       "max                      100.000000  "
      ]
     },
     "execution_count": 23,
     "metadata": {},
     "output_type": "execute_result"
    }
   ],
   "source": [
    "train_df_missinValues.describe()"
   ]
  },
  {
   "cell_type": "markdown",
   "metadata": {},
   "source": [
    "### Normalizing the data.."
   ]
  },
  {
   "cell_type": "markdown",
   "metadata": {},
   "source": [
    "The range of two features i.e. Level of Hemoglobin and Genetic Pedigree Coefficient are not in same range, thus it can make training more complex. It will be good if both can come under the same range."
   ]
  },
  {
   "cell_type": "code",
   "execution_count": 24,
   "metadata": {},
   "outputs": [],
   "source": [
    "from sklearn.preprocessing import MinMaxScaler"
   ]
  },
  {
   "cell_type": "code",
   "execution_count": 25,
   "metadata": {},
   "outputs": [],
   "source": [
    "train_df_mv_norm = train_df_missinValues.copy(deep=True)\n",
    "lvlOfHg = np.array(train_df_mv_norm['Level_of_Hemoglobin'])\n",
    "scaler = MinMaxScaler().fit(lvlOfHg.reshape(-1, 1))\n",
    "rescaled = scaler.transform(lvlOfHg.reshape(-1, 1))\n",
    "\n",
    "train_df_mv_norm['Level_of_Hemoglobin'] = rescaled"
   ]
  },
  {
   "cell_type": "code",
   "execution_count": 26,
   "metadata": {},
   "outputs": [
    {
     "data": {
      "text/html": [
       "<div>\n",
       "<style>\n",
       "    .dataframe thead tr:only-child th {\n",
       "        text-align: right;\n",
       "    }\n",
       "\n",
       "    .dataframe thead th {\n",
       "        text-align: left;\n",
       "    }\n",
       "\n",
       "    .dataframe tbody tr th {\n",
       "        vertical-align: top;\n",
       "    }\n",
       "</style>\n",
       "<table border=\"1\" class=\"dataframe\">\n",
       "  <thead>\n",
       "    <tr style=\"text-align: right;\">\n",
       "      <th></th>\n",
       "      <th>Patient_Number</th>\n",
       "      <th>Blood_Pressure_Abnormality</th>\n",
       "      <th>Level_of_Hemoglobin</th>\n",
       "      <th>Genetic_Pedigree_Coefficient</th>\n",
       "    </tr>\n",
       "  </thead>\n",
       "  <tbody>\n",
       "    <tr>\n",
       "      <th>count</th>\n",
       "      <td>1908.000000</td>\n",
       "      <td>1908.000000</td>\n",
       "      <td>1908.000000</td>\n",
       "      <td>1908.000000</td>\n",
       "    </tr>\n",
       "    <tr>\n",
       "      <th>mean</th>\n",
       "      <td>1003.972746</td>\n",
       "      <td>0.502096</td>\n",
       "      <td>0.381278</td>\n",
       "      <td>0.546756</td>\n",
       "    </tr>\n",
       "    <tr>\n",
       "      <th>std</th>\n",
       "      <td>578.751254</td>\n",
       "      <td>0.500127</td>\n",
       "      <td>0.230805</td>\n",
       "      <td>2.296605</td>\n",
       "    </tr>\n",
       "    <tr>\n",
       "      <th>min</th>\n",
       "      <td>1.000000</td>\n",
       "      <td>0.000000</td>\n",
       "      <td>0.000000</td>\n",
       "      <td>0.000000</td>\n",
       "    </tr>\n",
       "    <tr>\n",
       "      <th>25%</th>\n",
       "      <td>502.750000</td>\n",
       "      <td>0.000000</td>\n",
       "      <td>0.215645</td>\n",
       "      <td>0.240000</td>\n",
       "    </tr>\n",
       "    <tr>\n",
       "      <th>50%</th>\n",
       "      <td>1003.500000</td>\n",
       "      <td>1.000000</td>\n",
       "      <td>0.341438</td>\n",
       "      <td>0.490000</td>\n",
       "    </tr>\n",
       "    <tr>\n",
       "      <th>75%</th>\n",
       "      <td>1507.250000</td>\n",
       "      <td>1.000000</td>\n",
       "      <td>0.510042</td>\n",
       "      <td>0.740000</td>\n",
       "    </tr>\n",
       "    <tr>\n",
       "      <th>max</th>\n",
       "      <td>2000.000000</td>\n",
       "      <td>1.000000</td>\n",
       "      <td>1.000000</td>\n",
       "      <td>100.000000</td>\n",
       "    </tr>\n",
       "  </tbody>\n",
       "</table>\n",
       "</div>"
      ],
      "text/plain": [
       "       Patient_Number  Blood_Pressure_Abnormality  Level_of_Hemoglobin  \\\n",
       "count     1908.000000                 1908.000000          1908.000000   \n",
       "mean      1003.972746                    0.502096             0.381278   \n",
       "std        578.751254                    0.500127             0.230805   \n",
       "min          1.000000                    0.000000             0.000000   \n",
       "25%        502.750000                    0.000000             0.215645   \n",
       "50%       1003.500000                    1.000000             0.341438   \n",
       "75%       1507.250000                    1.000000             0.510042   \n",
       "max       2000.000000                    1.000000             1.000000   \n",
       "\n",
       "       Genetic_Pedigree_Coefficient  \n",
       "count                   1908.000000  \n",
       "mean                       0.546756  \n",
       "std                        2.296605  \n",
       "min                        0.000000  \n",
       "25%                        0.240000  \n",
       "50%                        0.490000  \n",
       "75%                        0.740000  \n",
       "max                      100.000000  "
      ]
     },
     "execution_count": 26,
     "metadata": {},
     "output_type": "execute_result"
    }
   ],
   "source": [
    "train_df_mv_norm.describe()"
   ]
  },
  {
   "cell_type": "markdown",
   "metadata": {},
   "source": [
    "### Making data for training and validation"
   ]
  },
  {
   "cell_type": "code",
   "execution_count": 27,
   "metadata": {},
   "outputs": [],
   "source": [
    "data = np.asarray(train_df_mv_norm.iloc[:,1:])\n",
    "X, Y = data[:,1:],data[:,:1]"
   ]
  },
  {
   "cell_type": "code",
   "execution_count": 28,
   "metadata": {},
   "outputs": [],
   "source": [
    "from sklearn.model_selection import train_test_split\n",
    "Y = Y.reshape(Y.shape[0],)\n",
    "X_train, X_test, Y_train, Y_test = train_test_split(X, Y,\n",
    "                                                    stratify=Y, \n",
    "                                                    test_size=0.2)"
   ]
  },
  {
   "cell_type": "markdown",
   "metadata": {},
   "source": [
    "## Logistic Regression"
   ]
  },
  {
   "cell_type": "markdown",
   "metadata": {},
   "source": [
    "Benefits of using LR:\n",
    "- Simple and Linear\n",
    "- Not much parameters to tune\n",
    "\n",
    "Cons :\n",
    "- Cannot handle non - linearities\n",
    "- Cannot handle large number of features"
   ]
  },
  {
   "cell_type": "code",
   "execution_count": 29,
   "metadata": {},
   "outputs": [
    {
     "name": "stdout",
     "output_type": "stream",
     "text": [
      "Accuracy of Logistic regression classifier on training set: 0.53\n",
      "Accuracy of Logistic regression classifier on test set: 0.54\n"
     ]
    }
   ],
   "source": [
    "from sklearn.linear_model import LogisticRegression\n",
    "np.random.seed(7)\n",
    "Y_train.reshape(1,Y_train.shape[0])\n",
    "Y_test.reshape(1,Y_test.shape[0])\n",
    "logreg = LogisticRegression()\n",
    "logreg.fit(X_train, Y_train)\n",
    "testY_temp = logreg.predict(X_test)\n",
    "print('Accuracy of Logistic regression classifier on training set: {:.2f}'\n",
    "     .format(logreg.score(X_train, Y_train)))\n",
    "print('Accuracy of Logistic regression classifier on test set: {:.2f}'\n",
    "     .format(logreg.score(X_test, Y_test)))"
   ]
  },
  {
   "cell_type": "markdown",
   "metadata": {},
   "source": [
    "## Naive Bayes"
   ]
  },
  {
   "cell_type": "markdown",
   "metadata": {},
   "source": [
    "Benefits of using NB:\n",
    "- Easy and fast\n",
    "- Works good for categorical variables\n",
    "- Works well for multi class prediction.\n",
    "\n",
    "Cons :\n",
    "- If new category comes in the test data set, it fails to predict.\n",
    "- Requires independent variables, independent variables are rare in real life problems.\n",
    "\n",
    "Types :\n",
    "- Gaussian \n",
    "- Multinomial\n",
    "- Bernoulli"
   ]
  },
  {
   "cell_type": "code",
   "execution_count": null,
   "metadata": {},
   "outputs": [],
   "source": [
    "from sklearn.naive_bayes import GaussianNB\n",
    "clf = GaussianNB().fit(X_train, Y_train)\n",
    "testY_temp = clf.predict(X_test)\n",
    "print('Accuracy of GaussianNB on training set: {:.2f}'\n",
    "     .format(clf.score(X_train, Y_train)))\n",
    "print('Accuracy of GaussianNB on test set: {:.2f}'\n",
    "     .format(clf.score(X_test, Y_test)))"
   ]
  },
  {
   "cell_type": "code",
   "execution_count": null,
   "metadata": {},
   "outputs": [],
   "source": [
    "from sklearn.model_selection import GridSearchCV\n",
    "parameters = {'C':[0.001, 0.01, 0.1, 1, 10, 100, 1000],'solver':('newton-cg', 'lbfgs', 'sag', 'saga')}\n",
    "classifier = LogisticRegression()\n",
    "clf = GridSearchCV(classifier, parameters)\n",
    "clf.fit(X_train, Y_train)\n",
    "print('Accuracy of Logistic regression classifier on training set: {:.2f}'\n",
    "     .format(clf.score(X_train, Y_train)))\n",
    "print('Accuracy of Logistic regression classifier on test set: {:.2f}'\n",
    "     .format(clf.score(X_test, Y_test)))\n",
    "print(clf.best_estimator_)"
   ]
  },
  {
   "cell_type": "markdown",
   "metadata": {},
   "source": [
    "### Decision Tree"
   ]
  },
  {
   "cell_type": "markdown",
   "metadata": {},
   "source": [
    "Benefits of using DT:\n",
    "- Uses decision rules.\n",
    "- Can handle non linear data.\n",
    "- Takes into account variable interaction.\n",
    "\n",
    "Cons :\n",
    "- Biased on training set.\n",
    "- Overfits the training set.\n",
    "- No ranking score, direct result."
   ]
  },
  {
   "cell_type": "code",
   "execution_count": null,
   "metadata": {},
   "outputs": [],
   "source": [
    "from sklearn.tree import DecisionTreeClassifier\n",
    "classifier = DecisionTreeClassifier()\n",
    "classifier.fit(X_train, Y_train)\n",
    "testY_temp = classifier.predict(X_test)\n",
    "print('Accuracy of Decision Tree classifier on training set: {:.2f}'\n",
    "     .format(classifier.score(X_train, Y_train)))\n",
    "print('Accuracy of Decision Tree classifier on test set: {:.2f}'\n",
    "     .format(classifier.score(X_test, Y_test)))"
   ]
  },
  {
   "cell_type": "code",
   "execution_count": null,
   "metadata": {},
   "outputs": [],
   "source": [
    "from sklearn.tree import DecisionTreeClassifier\n",
    "parameters = {'criterion':('gini','entropy'),'max_features':(None,'auto','sqrt','log2')}\n",
    "classifier = DecisionTreeClassifier()\n",
    "clf = GridSearchCV(classifier, parameters)\n",
    "clf.fit(X_train, Y_train)\n",
    "testY_temp = clf.predict(X_test)\n",
    "print('Accuracy of Decision Tree classifier on training set: {:.2f}'\n",
    "     .format(clf.score(X_train, Y_train)))\n",
    "print('Accuracy of Decision Tree classifier on test set: {:.2f}'\n",
    "     .format(clf.score(X_test, Y_test)))\n",
    "print(clf.best_estimator_)"
   ]
  },
  {
   "cell_type": "markdown",
   "metadata": {},
   "source": [
    "### Random Forest"
   ]
  },
  {
   "cell_type": "markdown",
   "metadata": {},
   "source": [
    "Benefits of using RF:\n",
    "- Single decision tree tends to overfit the data. The process of averaging or combining the results of different decision trees helps to overcome the problem of overfitting.\n",
    "- Works good for large range of data.\n",
    "- Scaling is not necesary.\n",
    "- Maintains accuracy even though data is missing.\n",
    "\n",
    "Cons :\n",
    "- Complex\n",
    "- Time consuming\n",
    "- Requires more computational resources."
   ]
  },
  {
   "cell_type": "code",
   "execution_count": null,
   "metadata": {},
   "outputs": [],
   "source": [
    "from sklearn.ensemble import RandomForestClassifier\n",
    "classifier = RandomForestClassifier()\n",
    "\n",
    "classifier.fit(X_train, Y_train)\n",
    "testY_temp = classifier.predict(X_test)\n",
    "print('Accuracy of RandomForestClassifier on training set: {:.2f}'\n",
    "     .format(classifier.score(X_train, Y_train)))\n",
    "print('Accuracy of RandomForestClassifier on test set: {:.2f}'\n",
    "     .format(classifier.score(X_test, Y_test)))"
   ]
  },
  {
   "cell_type": "code",
   "execution_count": null,
   "metadata": {},
   "outputs": [],
   "source": [
    "from sklearn.ensemble import RandomForestClassifier\n",
    "parameters = {'n_estimators':[10,50,100],'criterion':('gini','entropy'),'max_features':(None,'auto','sqrt','log2')}\n",
    "classifier = RandomForestClassifier()\n",
    "clf = GridSearchCV(classifier, parameters)\n",
    "clf.fit(X_train, Y_train)\n",
    "testY_temp = clf.predict(X_test)\n",
    "print('Accuracy of RandomForestClassifier on training set: {:.2f}'\n",
    "     .format(clf.score(X_train, Y_train)))\n",
    "print('Accuracy of RandomForestClassifier on test set: {:.2f}'\n",
    "     .format(clf.score(X_test, Y_test)))\n",
    "print(clf.best_estimator_)"
   ]
  },
  {
   "cell_type": "markdown",
   "metadata": {},
   "source": [
    "### Gradient Boosting"
   ]
  },
  {
   "cell_type": "markdown",
   "metadata": {},
   "source": [
    "Benefits of using GB:\n",
    "- Builds each tree sequentially.\n",
    "- Each new tree helps to correct errors made by previously trained tree. \n",
    "- Better learner than RF.\n",
    "\n",
    "Cons :\n",
    "- Prone to overfitting.\n",
    "- Many parameters to tune.\n",
    "- Not very speedy."
   ]
  },
  {
   "cell_type": "code",
   "execution_count": 3,
   "metadata": {},
   "outputs": [
    {
     "name": "stderr",
     "output_type": "stream",
     "text": [
      "/home/avanish/anaconda3/lib/python3.6/site-packages/sklearn/ensemble/weight_boosting.py:29: DeprecationWarning: numpy.core.umath_tests is an internal NumPy module and should not be imported. It will be removed in a future NumPy release.\n",
      "  from numpy.core.umath_tests import inner1d\n"
     ]
    },
    {
     "ename": "NameError",
     "evalue": "name 'X_train' is not defined",
     "output_type": "error",
     "traceback": [
      "\u001b[0;31m---------------------------------------------------------------------------\u001b[0m",
      "\u001b[0;31mNameError\u001b[0m                                 Traceback (most recent call last)",
      "\u001b[0;32m<ipython-input-3-4601db140242>\u001b[0m in \u001b[0;36m<module>\u001b[0;34m()\u001b[0m\n\u001b[1;32m      1\u001b[0m \u001b[0;32mfrom\u001b[0m \u001b[0msklearn\u001b[0m\u001b[0;34m.\u001b[0m\u001b[0mensemble\u001b[0m \u001b[0;32mimport\u001b[0m \u001b[0mGradientBoostingClassifier\u001b[0m\u001b[0;34m\u001b[0m\u001b[0;34m\u001b[0m\u001b[0m\n\u001b[1;32m      2\u001b[0m \u001b[0mclassifier\u001b[0m \u001b[0;34m=\u001b[0m \u001b[0mGradientBoostingClassifier\u001b[0m\u001b[0;34m(\u001b[0m\u001b[0;34m)\u001b[0m\u001b[0;34m\u001b[0m\u001b[0;34m\u001b[0m\u001b[0m\n\u001b[0;32m----> 3\u001b[0;31m \u001b[0mclassifier\u001b[0m\u001b[0;34m.\u001b[0m\u001b[0mfit\u001b[0m\u001b[0;34m(\u001b[0m\u001b[0mX_train\u001b[0m\u001b[0;34m,\u001b[0m \u001b[0mY_train\u001b[0m\u001b[0;34m)\u001b[0m\u001b[0;34m\u001b[0m\u001b[0;34m\u001b[0m\u001b[0m\n\u001b[0m\u001b[1;32m      4\u001b[0m \u001b[0mtestY_temp\u001b[0m \u001b[0;34m=\u001b[0m \u001b[0mclassifier\u001b[0m\u001b[0;34m.\u001b[0m\u001b[0mpredict\u001b[0m\u001b[0;34m(\u001b[0m\u001b[0mX_test\u001b[0m\u001b[0;34m)\u001b[0m\u001b[0;34m\u001b[0m\u001b[0;34m\u001b[0m\u001b[0m\n\u001b[1;32m      5\u001b[0m print('Accuracy of GradientBoostingClassifier on training set: {:.2f}'\n",
      "\u001b[0;31mNameError\u001b[0m: name 'X_train' is not defined"
     ]
    }
   ],
   "source": [
    "from sklearn.ensemble import GradientBoostingClassifier\n",
    "classifier = GradientBoostingClassifier()\n",
    "classifier.fit(X_train, Y_train)\n",
    "testY_temp = classifier.predict(X_test)\n",
    "print('Accuracy of GradientBoostingClassifier on training set: {:.2f}'\n",
    "     .format(classifier.score(X_train, Y_train)))\n",
    "print('Accuracy of GradientBoostingClassifier on test set: {:.2f}'\n",
    "     .format(classifier.score(X_test, Y_test)))"
   ]
  },
  {
   "cell_type": "code",
   "execution_count": null,
   "metadata": {},
   "outputs": [],
   "source": [
    "from sklearn.ensemble import GradientBoostingClassifier\n",
    "parameters = {'n_estimators':[50,100,150,250],'loss' : ('deviance', 'exponential'),'max_features':('auto','sqrt','log2')}\n",
    "classifier = GradientBoostingClassifier()\n",
    "clf = GridSearchCV(classifier, parameters)\n",
    "clf.fit(X_train, Y_train)\n",
    "testY_temp = clf.predict(X_test)\n",
    "print('Accuracy of GradientBoostingClassifier on training set: {:.2f}'\n",
    "     .format(clf.score(X_train, Y_train)))\n",
    "print('Accuracy of GradientBoostingClassifier on test set: {:.2f}'\n",
    "     .format(clf.score(X_test, Y_test)))\n",
    "print(clf.best_estimator_)"
   ]
  },
  {
   "cell_type": "markdown",
   "metadata": {},
   "source": [
    "### K Nearest Neighbours"
   ]
  },
  {
   "cell_type": "markdown",
   "metadata": {},
   "source": [
    "Benefits of using KNN:\n",
    "- Simple to implement\n",
    "- Flexible to feature / distance choices\n",
    "- Effective if training data is large\n",
    "\n",
    "Cons :\n",
    "- Computation is quite high.\n",
    "- Need to know no of nearest neighbours.\n",
    "- Must know we have a meaningful distance function"
   ]
  },
  {
   "cell_type": "code",
   "execution_count": null,
   "metadata": {},
   "outputs": [],
   "source": [
    "from sklearn.neighbors import KNeighborsClassifier\n",
    "parameters = {'n_neighbors':[3,5,7,10]}\n",
    "classifier = KNeighborsClassifier()\n",
    "clf = GridSearchCV(classifier, parameters)\n",
    "clf.fit(X_train, Y_train)\n",
    "testY_temp = clf.predict(X_test)\n",
    "print('Accuracy of KNeighborsClassifier on training set: {:.2f}'\n",
    "     .format(clf.score(X_train, Y_train)))\n",
    "print('Accuracy of KNeighborsClassifier on test set: {:.2f}'\n",
    "     .format(clf.score(X_test, Y_test)))\n",
    "print(clf.best_estimator_)"
   ]
  },
  {
   "cell_type": "markdown",
   "metadata": {},
   "source": [
    "### Support Vector Machine"
   ]
  },
  {
   "cell_type": "markdown",
   "metadata": {},
   "source": [
    "Benefits of using SVM:\n",
    "- Can handle large feature space\n",
    "- Can handle non-linear feature interactions\n",
    "- Do not rely on entire data\n",
    "\n",
    "Cons :\n",
    "- Computation is quite high.\n",
    "- It can be tricky to find appropriate kernel sometimes"
   ]
  },
  {
   "cell_type": "code",
   "execution_count": null,
   "metadata": {},
   "outputs": [],
   "source": [
    "from sklearn import svm\n",
    "clf = svm.SVC()\n",
    "\n",
    "clf.fit(X_train, Y_train)\n",
    "testY_temp = clf.predict(X_test)\n",
    "print('Accuracy of svm on training set: {:.2f}'\n",
    "     .format(clf.score(X_train, Y_train)))\n",
    "print('Accuracy of svm on test set: {:.2f}'\n",
    "     .format(clf.score(X_test, Y_test)))\n"
   ]
  },
  {
   "cell_type": "code",
   "execution_count": null,
   "metadata": {},
   "outputs": [],
   "source": [
    "from sklearn import svm\n",
    "parameters = {'C':[0.001, 0.01, 0.1, 1, 10, 100, 1000],'kernel' : ('linear', 'poly', 'rbf', 'sigmoid')}\n",
    "classifier = svm.SVC()\n",
    "clf = GridSearchCV(classifier, parameters)\n",
    "clf.fit(X_train, Y_train)\n",
    "testY_temp = clf.predict(X_test)\n",
    "print('Accuracy of svm on training set: {:.2f}'\n",
    "     .format(clf.score(X_train, Y_train)))\n",
    "print('Accuracy of svm on test set: {:.2f}'\n",
    "     .format(clf.score(X_test, Y_test)))\n",
    "print(clf.best_estimator_)"
   ]
  },
  {
   "cell_type": "markdown",
   "metadata": {},
   "source": [
    "### Multi Layer Perceptron"
   ]
  },
  {
   "cell_type": "markdown",
   "metadata": {},
   "source": [
    "Benefits of using MLP:\n",
    "- Can solve complex problems\n",
    "- Can learn non-linear and complex problems\n",
    "-  After learning from the initial inputs and their relationships, it can infer unseen relationships on unseen data as well, thus making the model generalize and predict on unseen data.\n",
    "\n",
    "Cons :\n",
    "- Training time is high\n",
    "- Many parameters to tune"
   ]
  },
  {
   "cell_type": "code",
   "execution_count": null,
   "metadata": {},
   "outputs": [],
   "source": [
    "from sklearn.neural_network import MLPClassifier\n",
    "np.random.seed(7)\n",
    "clf = MLPClassifier()\n",
    "clf.fit(X_train, Y_train)\n",
    "testY_temp = clf.predict(X_test)\n",
    "print('Accuracy of mlp on training set: {:.2f}'\n",
    "     .format(clf.score(X_train, Y_train)))\n",
    "print('Accuracy of mlp on test set: {:.2f}'\n",
    "     .format(clf.score(X_test, Y_test)))"
   ]
  },
  {
   "cell_type": "code",
   "execution_count": null,
   "metadata": {},
   "outputs": [],
   "source": [
    "from sklearn.neural_network import MLPClassifier\n",
    "parameters = {'activation' : ('logistic', 'tanh', 'relu'),'solver' : ('sgd', 'adam')}\n",
    "classifier = MLPClassifier()\n",
    "clf = GridSearchCV(classifier, parameters)\n",
    "clf.fit(X_train, Y_train)\n",
    "testY_temp = clf.predict(X_test)\n",
    "print('Accuracy of mlp on training set: {:.2f}'\n",
    "     .format(clf.score(X_train, Y_train)))\n",
    "print('Accuracy of mlp on test set: {:.2f}'\n",
    "     .format(clf.score(X_test, Y_test)))\n",
    "print(clf.best_estimator_)"
   ]
  },
  {
   "cell_type": "code",
   "execution_count": null,
   "metadata": {},
   "outputs": [],
   "source": []
  },
  {
   "cell_type": "markdown",
   "metadata": {},
   "source": [
    "### Working with more features.."
   ]
  },
  {
   "cell_type": "code",
   "execution_count": null,
   "metadata": {},
   "outputs": [],
   "source": [
    "AF_train_df = train_df.copy(deep=True)"
   ]
  },
  {
   "cell_type": "code",
   "execution_count": null,
   "metadata": {},
   "outputs": [],
   "source": [
    "AF_train_df.describe()"
   ]
  },
  {
   "cell_type": "code",
   "execution_count": null,
   "metadata": {},
   "outputs": [],
   "source": [
    "menP = np.where(AF_train_df[\"Sex\"]== 0, \n",
    "                       0,                    \n",
    "                       AF_train_df[\"Pregnancy\"])"
   ]
  },
  {
   "cell_type": "code",
   "execution_count": null,
   "metadata": {},
   "outputs": [],
   "source": [
    "AF_train_df[\"Pregnancy\"] = menP "
   ]
  },
  {
   "cell_type": "code",
   "execution_count": null,
   "metadata": {},
   "outputs": [],
   "source": [
    "AF_train_df[\"Pregnancy\"].describe()"
   ]
  },
  {
   "cell_type": "code",
   "execution_count": null,
   "metadata": {},
   "outputs": [],
   "source": [
    "womenP = np.where((AF_train_df[\"Sex\"]== 1) & (AF_train_df[\"Pregnancy\"].isnull()), \n",
    "                       2,                    \n",
    "                       AF_train_df[\"Pregnancy\"])"
   ]
  },
  {
   "cell_type": "code",
   "execution_count": null,
   "metadata": {},
   "outputs": [],
   "source": [
    "womenP"
   ]
  },
  {
   "cell_type": "code",
   "execution_count": null,
   "metadata": {},
   "outputs": [],
   "source": [
    "AF_train_df[\"Pregnancy\"] = womenP"
   ]
  },
  {
   "cell_type": "code",
   "execution_count": null,
   "metadata": {},
   "outputs": [],
   "source": [
    "AF_train_df.describe()"
   ]
  },
  {
   "cell_type": "code",
   "execution_count": null,
   "metadata": {},
   "outputs": [],
   "source": [
    "AF_train_df.corr()"
   ]
  },
  {
   "cell_type": "code",
   "execution_count": null,
   "metadata": {},
   "outputs": [],
   "source": []
  },
  {
   "cell_type": "code",
   "execution_count": null,
   "metadata": {},
   "outputs": [],
   "source": [
    "alc_con = np.where(AF_train_df[\"alcohol_consumption_per_day\"].isnull(), \n",
    "                       250,                    \n",
    "                       AF_train_df[\"alcohol_consumption_per_day\"])"
   ]
  },
  {
   "cell_type": "code",
   "execution_count": null,
   "metadata": {},
   "outputs": [],
   "source": [
    "AF_train_df[\"alcohol_consumption_per_day\"] = alc_con "
   ]
  },
  {
   "cell_type": "code",
   "execution_count": null,
   "metadata": {},
   "outputs": [],
   "source": [
    "AF_train_df.describe()"
   ]
  },
  {
   "cell_type": "code",
   "execution_count": null,
   "metadata": {},
   "outputs": [],
   "source": [
    "gen_c = np.where(AF_train_df[\"Genetic_Pedigree_Coefficient\"].isnull(), \n",
    "                       0.49,                    \n",
    "                       AF_train_df[\"Genetic_Pedigree_Coefficient\"])\n",
    "AF_train_df[\"Genetic_Pedigree_Coefficient\"] = gen_c"
   ]
  },
  {
   "cell_type": "code",
   "execution_count": null,
   "metadata": {},
   "outputs": [],
   "source": [
    "AF_train_df.describe()"
   ]
  },
  {
   "cell_type": "code",
   "execution_count": null,
   "metadata": {},
   "outputs": [],
   "source": [
    "scaler = MinMaxScaler().fit(AF_train_df)\n",
    "rescaled = scaler.transform(AF_train_df)\n",
    "\n",
    "AF_train_df =  pd.DataFrame(rescaled)"
   ]
  },
  {
   "cell_type": "code",
   "execution_count": null,
   "metadata": {},
   "outputs": [],
   "source": [
    "AF_train_df.describe()"
   ]
  },
  {
   "cell_type": "code",
   "execution_count": null,
   "metadata": {},
   "outputs": [],
   "source": [
    "data = np.asarray(AF_train_df.iloc[:,1:])\n",
    "X, Y = data[:,1:],data[:,:1]"
   ]
  },
  {
   "cell_type": "code",
   "execution_count": null,
   "metadata": {},
   "outputs": [],
   "source": [
    "from sklearn.model_selection import train_test_split\n",
    "X_train, X_test, Y_train, Y_test = train_test_split(X, Y,\n",
    "                                                    stratify=Y, \n",
    "                                                    test_size=0.2)"
   ]
  },
  {
   "cell_type": "code",
   "execution_count": null,
   "metadata": {},
   "outputs": [],
   "source": [
    "Y_train =Y_train.reshape(Y_train.shape[0],)\n",
    "Y_test =Y_test.reshape(Y_test.shape[0],)\n",
    "parameters = {'C':[0.001, 0.01, 0.1, 1, 10, 100, 1000],'solver':('newton-cg', 'lbfgs', 'sag', 'saga')}\n",
    "classifier = LogisticRegression()\n",
    "clf = GridSearchCV(classifier, parameters)\n",
    "clf.fit(X_train, Y_train)\n",
    "print('Accuracy of Logistic regression classifier on training set: {:.2f}'\n",
    "     .format(clf.score(X_train, Y_train)))\n",
    "print('Accuracy of Logistic regression classifier on test set: {:.2f}'\n",
    "     .format(clf.score(X_test, Y_test)))\n",
    "print(clf.best_estimator_)"
   ]
  },
  {
   "cell_type": "code",
   "execution_count": null,
   "metadata": {},
   "outputs": [],
   "source": [
    "clf = GaussianNB().fit(X_train, Y_train)\n",
    "testY_temp = clf.predict(X_test)\n",
    "print('Accuracy of GaussianNB on training set: {:.2f}'\n",
    "     .format(clf.score(X_train, Y_train)))\n",
    "print('Accuracy of GaussianNB on test set: {:.2f}'\n",
    "     .format(clf.score(X_test, Y_test)))"
   ]
  },
  {
   "cell_type": "code",
   "execution_count": null,
   "metadata": {},
   "outputs": [],
   "source": [
    "parameters = {'criterion':('gini','entropy'),'max_features':(None,'auto','sqrt','log2')}\n",
    "classifier = DecisionTreeClassifier()\n",
    "clf = GridSearchCV(classifier, parameters)\n",
    "clf.fit(X_train, Y_train)\n",
    "testY_temp = clf.predict(X_test)\n",
    "print('Accuracy of Decision Tree classifier on training set: {:.2f}'\n",
    "     .format(clf.score(X_train, Y_train)))\n",
    "print('Accuracy of Decision Tree classifier on test set: {:.2f}'\n",
    "     .format(clf.score(X_test, Y_test)))\n",
    "print(clf.best_estimator_)"
   ]
  },
  {
   "cell_type": "code",
   "execution_count": null,
   "metadata": {},
   "outputs": [],
   "source": [
    "parameters = {'n_estimators':[10,50,100],'criterion':('gini','entropy'),'max_features':(None,'auto','sqrt','log2')}\n",
    "classifier = RandomForestClassifier()\n",
    "clf = GridSearchCV(classifier, parameters)\n",
    "clf.fit(X_train, Y_train)\n",
    "testY_temp = clf.predict(X_test)\n",
    "print('Accuracy of RandomForestClassifier on training set: {:.2f}'\n",
    "     .format(clf.score(X_train, Y_train)))\n",
    "print('Accuracy of RandomForestClassifier on test set: {:.2f}'\n",
    "     .format(clf.score(X_test, Y_test)))\n",
    "print(clf.best_estimator_)"
   ]
  },
  {
   "cell_type": "code",
   "execution_count": null,
   "metadata": {},
   "outputs": [],
   "source": [
    "parameters = {'n_estimators':[50,100,150,250],'loss' : ('deviance', 'exponential'),'max_features':('auto','sqrt','log2')}\n",
    "classifier = GradientBoostingClassifier()\n",
    "clf = GridSearchCV(classifier, parameters)\n",
    "clf.fit(X_train, Y_train)\n",
    "testY_temp = clf.predict(X_test)\n",
    "print('Accuracy of GradientBoostingClassifier on training set: {:.2f}'\n",
    "     .format(clf.score(X_train, Y_train)))\n",
    "print('Accuracy of GradientBoostingClassifier on test set: {:.2f}'\n",
    "     .format(clf.score(X_test, Y_test)))\n",
    "print(clf.best_estimator_)"
   ]
  },
  {
   "cell_type": "code",
   "execution_count": null,
   "metadata": {},
   "outputs": [],
   "source": [
    "parameters = {'n_neighbors':[3,5,7,10]}\n",
    "classifier = KNeighborsClassifier()\n",
    "clf = GridSearchCV(classifier, parameters)\n",
    "clf.fit(X_train, Y_train)\n",
    "testY_temp = clf.predict(X_test)\n",
    "print('Accuracy of KNeighborsClassifier on training set: {:.2f}'\n",
    "     .format(clf.score(X_train, Y_train)))\n",
    "print('Accuracy of KNeighborsClassifier on test set: {:.2f}'\n",
    "     .format(clf.score(X_test, Y_test)))\n",
    "print(clf.best_estimator_)"
   ]
  },
  {
   "cell_type": "code",
   "execution_count": null,
   "metadata": {},
   "outputs": [],
   "source": [
    "parameters = {'C':[0.001, 0.01, 0.1, 1, 10, 100, 1000],'kernel' : ('linear', 'poly', 'rbf', 'sigmoid')}\n",
    "classifier = svm.SVC()\n",
    "clf = GridSearchCV(classifier, parameters)\n",
    "clf.fit(X_train, Y_train)\n",
    "testY_temp = clf.predict(X_test)\n",
    "print('Accuracy of svm on training set: {:.2f}'\n",
    "     .format(clf.score(X_train, Y_train)))\n",
    "print('Accuracy of svm on test set: {:.2f}'\n",
    "     .format(clf.score(X_test, Y_test)))\n",
    "print(clf.best_estimator_)"
   ]
  },
  {
   "cell_type": "code",
   "execution_count": null,
   "metadata": {},
   "outputs": [],
   "source": [
    "parameters = {'activation' : ('logistic', 'tanh', 'relu'),'solver' : ('sgd', 'adam'),'hidden_layer_sizes': [(1000), (200), (250)],}\n",
    "classifier = MLPClassifier()\n",
    "clf = GridSearchCV(classifier, parameters)\n",
    "clf.fit(X_train, Y_train)\n",
    "testY_temp = clf.predict(X_test)\n",
    "print('Accuracy of mlp on training set: {:.2f}'\n",
    "     .format(clf.score(X_train, Y_train)))\n",
    "print('Accuracy of mlp on test set: {:.2f}'\n",
    "     .format(clf.score(X_test, Y_test)))\n",
    "print(clf.best_estimator_)"
   ]
  },
  {
   "cell_type": "markdown",
   "metadata": {},
   "source": [
    "### Feature Selection"
   ]
  },
  {
   "cell_type": "code",
   "execution_count": null,
   "metadata": {},
   "outputs": [],
   "source": [
    "from sklearn.feature_selection import SelectKBest\n",
    "from sklearn.feature_selection import chi2\n",
    "\n",
    "# feature extraction\n",
    "test = SelectKBest(score_func=chi2, k=8)\n",
    "fit = test.fit(X, Y)\n",
    "# summarize scores\n",
    "np.set_printoptions(precision=3)\n",
    "print(fit.scores_)\n",
    "X_new = fit.transform(X)\n",
    "print(len(X_new))\n",
    "# summarize selected features\n",
    "print(X_new[0:5,:])"
   ]
  },
  {
   "cell_type": "code",
   "execution_count": null,
   "metadata": {},
   "outputs": [],
   "source": [
    "X_train, X_test, Y_train, Y_test = train_test_split(X_new, Y,\n",
    "                                                    stratify=Y, \n",
    "                                                    test_size=0.2)"
   ]
  },
  {
   "cell_type": "code",
   "execution_count": null,
   "metadata": {},
   "outputs": [],
   "source": [
    "Y_train =Y_train.reshape(Y_train.shape[0],)\n",
    "Y_test =Y_test.reshape(Y_test.shape[0],)\n",
    "parameters = {'C':[0.001, 0.01, 0.1, 1, 10, 100, 1000],'solver':('newton-cg', 'lbfgs', 'sag', 'saga')}\n",
    "classifier = LogisticRegression()\n",
    "clf = GridSearchCV(classifier, parameters)\n",
    "clf.fit(X_train, Y_train)\n",
    "print('Accuracy of Logistic regression classifier on training set: {:.2f}'\n",
    "     .format(clf.score(X_train, Y_train)))\n",
    "print('Accuracy of Logistic regression classifier on test set: {:.2f}'\n",
    "     .format(clf.score(X_test, Y_test)))\n",
    "print(clf.best_estimator_)\n",
    "\n",
    "print(' ')\n",
    "clf = GaussianNB().fit(X_train, Y_train)\n",
    "testY_temp = clf.predict(X_test)\n",
    "print('Accuracy of GaussianNB on training set: {:.2f}'\n",
    "     .format(clf.score(X_train, Y_train)))\n",
    "print('Accuracy of GaussianNB on test set: {:.2f}'\n",
    "     .format(clf.score(X_test, Y_test)))\n",
    "print(' ')\n",
    "parameters = {'criterion':('gini','entropy'),'max_features':(None,'auto','sqrt','log2')}\n",
    "classifier = DecisionTreeClassifier()\n",
    "clf = GridSearchCV(classifier, parameters)\n",
    "clf.fit(X_train, Y_train)\n",
    "testY_temp = clf.predict(X_test)\n",
    "print('Accuracy of Decision Tree classifier on training set: {:.2f}'\n",
    "     .format(clf.score(X_train, Y_train)))\n",
    "print('Accuracy of Decision Tree classifier on test set: {:.2f}'\n",
    "     .format(clf.score(X_test, Y_test)))\n",
    "print(clf.best_estimator_)\n",
    "print(' ')\n",
    "parameters = {'n_estimators':[10,50,100],'criterion':('gini','entropy'),'max_features':(None,'auto','sqrt','log2')}\n",
    "classifier = RandomForestClassifier()\n",
    "clf = GridSearchCV(classifier, parameters)\n",
    "clf.fit(X_train, Y_train)\n",
    "testY_temp = clf.predict(X_test)\n",
    "print('Accuracy of RandomForestClassifier on training set: {:.2f}'\n",
    "     .format(clf.score(X_train, Y_train)))\n",
    "print('Accuracy of RandomForestClassifier on test set: {:.2f}'\n",
    "     .format(clf.score(X_test, Y_test)))\n",
    "print(clf.best_estimator_)\n",
    "print(' ')\n",
    "parameters = {'n_estimators':[50,100,150,250],'loss' : ('deviance', 'exponential'),'max_features':('auto','sqrt','log2')}\n",
    "classifier = GradientBoostingClassifier()\n",
    "clf = GridSearchCV(classifier, parameters)\n",
    "clf.fit(X_train, Y_train)\n",
    "testY_temp = clf.predict(X_test)\n",
    "print('Accuracy of GradientBoostingClassifier on training set: {:.2f}'\n",
    "     .format(clf.score(X_train, Y_train)))\n",
    "print('Accuracy of GradientBoostingClassifier on test set: {:.2f}'\n",
    "     .format(clf.score(X_test, Y_test)))\n",
    "print(clf.best_estimator_)\n",
    "print(' ')\n",
    "parameters = {'n_neighbors':[3,5,7,10]}\n",
    "classifier = KNeighborsClassifier()\n",
    "clf = GridSearchCV(classifier, parameters)\n",
    "clf.fit(X_train, Y_train)\n",
    "testY_temp = clf.predict(X_test)\n",
    "print('Accuracy of KNeighborsClassifier on training set: {:.2f}'\n",
    "     .format(clf.score(X_train, Y_train)))\n",
    "print('Accuracy of KNeighborsClassifier on test set: {:.2f}'\n",
    "     .format(clf.score(X_test, Y_test)))\n",
    "print(clf.best_estimator_)\n",
    "print(' ')\n",
    "parameters = {'C':[0.001, 0.01, 0.1, 1, 10, 100, 1000],'kernel' : ('linear', 'poly', 'rbf', 'sigmoid')}\n",
    "classifier = svm.SVC()\n",
    "clf = GridSearchCV(classifier, parameters)\n",
    "clf.fit(X_train, Y_train)\n",
    "testY_temp = clf.predict(X_test)\n",
    "print('Accuracy of svm on training set: {:.2f}'\n",
    "     .format(clf.score(X_train, Y_train)))\n",
    "print('Accuracy of svm on test set: {:.2f}'\n",
    "     .format(clf.score(X_test, Y_test)))\n",
    "print(clf.best_estimator_)\n",
    "print(' ')\n",
    "parameters = {'activation' : ('logistic', 'tanh', 'relu'),'solver' : ('sgd', 'adam'),'hidden_layer_sizes': [(1000), (200), (250)],}\n",
    "classifier = MLPClassifier()\n",
    "clf = GridSearchCV(classifier, parameters)\n",
    "clf.fit(X_train, Y_train)\n",
    "testY_temp = clf.predict(X_test)\n",
    "print('Accuracy of mlp on training set: {:.2f}'\n",
    "     .format(clf.score(X_train, Y_train)))\n",
    "print('Accuracy of mlp on test set: {:.2f}'\n",
    "     .format(clf.score(X_test, Y_test)))\n",
    "print(clf.best_estimator_)"
   ]
  },
  {
   "cell_type": "code",
   "execution_count": null,
   "metadata": {},
   "outputs": [],
   "source": [
    "data = np.asarray(AF_train_df.iloc[:,1:])\n",
    "X, Y = data[:,[1,2,4,7]],data[:,:1]\n",
    "print(X.shape)\n",
    "X_train, X_test, Y_train, Y_test = train_test_split(X, Y,\n",
    "                                                    stratify=Y, \n",
    "                                                    test_size=0.2)"
   ]
  },
  {
   "cell_type": "code",
   "execution_count": null,
   "metadata": {},
   "outputs": [],
   "source": [
    "Y_train =Y_train.reshape(Y_train.shape[0],)\n",
    "Y_test =Y_test.reshape(Y_test.shape[0],)\n",
    "\n",
    "parameters = {'n_estimators':[50,100,150,250],'loss' : ('deviance', 'exponential'),'max_features':('auto','sqrt','log2')}\n",
    "classifier = GradientBoostingClassifier()\n",
    "clf = GridSearchCV(classifier, parameters)\n",
    "clf.fit(X_train, Y_train)\n",
    "testY_temp = clf.predict(X_test)\n",
    "print('Accuracy of GradientBoostingClassifier on training set: {:.2f}'\n",
    "     .format(clf.score(X_train, Y_train)))\n",
    "print('Accuracy of GradientBoostingClassifier on test set: {:.2f}'\n",
    "     .format(clf.score(X_test, Y_test)))\n",
    "print(clf.best_estimator_)\n",
    "print(' ')\n",
    "parameters = {'C':[0.001, 0.01, 0.1, 1, 10, 100, 1000],'kernel' : ('linear', 'poly', 'rbf', 'sigmoid')}\n",
    "classifier = svm.SVC()\n",
    "clf = GridSearchCV(classifier, parameters)\n",
    "clf.fit(X_train, Y_train)\n",
    "testY_temp = clf.predict(X_test)\n",
    "print('Accuracy of svm on training set: {:.2f}'\n",
    "     .format(clf.score(X_train, Y_train)))\n",
    "print('Accuracy of svm on test set: {:.2f}'\n",
    "     .format(clf.score(X_test, Y_test)))\n",
    "print(clf.best_estimator_)\n",
    "print(' ')\n",
    "parameters = {'activation' : ('logistic', 'tanh', 'relu'),'solver' : ('sgd', 'adam'),'hidden_layer_sizes': [(100), (200), (250)],}\n",
    "classifier = MLPClassifier()\n",
    "clf = GridSearchCV(classifier, parameters)\n",
    "clf.fit(X_train, Y_train)\n",
    "testY_temp = clf.predict(X_test)\n",
    "print('Accuracy of mlp on training set: {:.2f}'\n",
    "     .format(clf.score(X_train, Y_train)))\n",
    "print('Accuracy of mlp on test set: {:.2f}'\n",
    "     .format(clf.score(X_test, Y_test)))\n",
    "print(clf.best_estimator_)"
   ]
  },
  {
   "cell_type": "code",
   "execution_count": null,
   "metadata": {},
   "outputs": [],
   "source": []
  }
 ],
 "metadata": {
  "kernelspec": {
   "display_name": "Python 3",
   "language": "python",
   "name": "python3"
  },
  "language_info": {
   "codemirror_mode": {
    "name": "ipython",
    "version": 3
   },
   "file_extension": ".py",
   "mimetype": "text/x-python",
   "name": "python",
   "nbconvert_exporter": "python",
   "pygments_lexer": "ipython3",
   "version": "3.6.8"
  }
 },
 "nbformat": 4,
 "nbformat_minor": 1
}
