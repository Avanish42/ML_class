{
 "cells": [
  {
   "cell_type": "code",
   "execution_count": 10,
   "metadata": {},
   "outputs": [],
   "source": [
    "import pandas as pd\n",
    "import numpy as np"
   ]
  },
  {
   "cell_type": "code",
   "execution_count": 11,
   "metadata": {},
   "outputs": [
    {
     "data": {
      "text/plain": [
       "Index(['<Ticker>', '<Date>', '<Open>', '<High>', '<Low>', '<Close>',\n",
       "       '<Volume>', '<Open Interest> '],\n",
       "      dtype='object')"
      ]
     },
     "execution_count": 11,
     "metadata": {},
     "output_type": "execute_result"
    }
   ],
   "source": [
    "df =pd.read_csv('nifty.csv')\n",
    "df.columns\n",
    "\n"
   ]
  },
  {
   "cell_type": "code",
   "execution_count": 9,
   "metadata": {},
   "outputs": [
    {
     "data": {
      "text/html": [
       "<div>\n",
       "<style>\n",
       "    .dataframe thead tr:only-child th {\n",
       "        text-align: right;\n",
       "    }\n",
       "\n",
       "    .dataframe thead th {\n",
       "        text-align: left;\n",
       "    }\n",
       "\n",
       "    .dataframe tbody tr th {\n",
       "        vertical-align: top;\n",
       "    }\n",
       "</style>\n",
       "<table border=\"1\" class=\"dataframe\">\n",
       "  <thead>\n",
       "    <tr style=\"text-align: right;\">\n",
       "      <th></th>\n",
       "      <th>&lt;Ticker&gt;</th>\n",
       "      <th>&lt;Date&gt;</th>\n",
       "      <th>&lt;Open&gt;</th>\n",
       "      <th>&lt;High&gt;</th>\n",
       "      <th>&lt;Low&gt;</th>\n",
       "      <th>&lt;Close&gt;</th>\n",
       "      <th>&lt;Volume&gt;</th>\n",
       "      <th>&lt;Open Interest&gt;</th>\n",
       "    </tr>\n",
       "  </thead>\n",
       "  <tbody>\n",
       "    <tr>\n",
       "      <th>NIFTY-I</th>\n",
       "      <td>20090101</td>\n",
       "      <td>09:56</td>\n",
       "      <td>2980.0</td>\n",
       "      <td>2980.0</td>\n",
       "      <td>2988.0000</td>\n",
       "      <td>2978.0000</td>\n",
       "      <td>2987</td>\n",
       "      <td>0</td>\n",
       "    </tr>\n",
       "    <tr>\n",
       "      <th>NIFTY-I</th>\n",
       "      <td>20090101</td>\n",
       "      <td>09:57</td>\n",
       "      <td>2988.0</td>\n",
       "      <td>2988.0</td>\n",
       "      <td>2988.0000</td>\n",
       "      <td>2983.5000</td>\n",
       "      <td>2984</td>\n",
       "      <td>0</td>\n",
       "    </tr>\n",
       "    <tr>\n",
       "      <th>NIFTY-I</th>\n",
       "      <td>20090101</td>\n",
       "      <td>09:58</td>\n",
       "      <td>2982.7</td>\n",
       "      <td>2982.7</td>\n",
       "      <td>2983.0000</td>\n",
       "      <td>2978.8999</td>\n",
       "      <td>2979</td>\n",
       "      <td>0</td>\n",
       "    </tr>\n",
       "    <tr>\n",
       "      <th>NIFTY-I</th>\n",
       "      <td>20090101</td>\n",
       "      <td>09:59</td>\n",
       "      <td>2979.3</td>\n",
       "      <td>2979.3</td>\n",
       "      <td>2987.0000</td>\n",
       "      <td>2979.3000</td>\n",
       "      <td>2985</td>\n",
       "      <td>0</td>\n",
       "    </tr>\n",
       "    <tr>\n",
       "      <th>NIFTY-I</th>\n",
       "      <td>20090101</td>\n",
       "      <td>10:00</td>\n",
       "      <td>2985.0</td>\n",
       "      <td>2985.0</td>\n",
       "      <td>2989.6499</td>\n",
       "      <td>2985.0000</td>\n",
       "      <td>2986</td>\n",
       "      <td>0</td>\n",
       "    </tr>\n",
       "  </tbody>\n",
       "</table>\n",
       "</div>"
      ],
      "text/plain": [
       "         <Ticker> <Date>  <Open>  <High>      <Low>    <Close>  <Volume>  \\\n",
       "NIFTY-I  20090101  09:56  2980.0  2980.0  2988.0000  2978.0000      2987   \n",
       "NIFTY-I  20090101  09:57  2988.0  2988.0  2988.0000  2983.5000      2984   \n",
       "NIFTY-I  20090101  09:58  2982.7  2982.7  2983.0000  2978.8999      2979   \n",
       "NIFTY-I  20090101  09:59  2979.3  2979.3  2987.0000  2979.3000      2985   \n",
       "NIFTY-I  20090101  10:00  2985.0  2985.0  2989.6499  2985.0000      2986   \n",
       "\n",
       "         <Open Interest>   \n",
       "NIFTY-I                 0  \n",
       "NIFTY-I                 0  \n",
       "NIFTY-I                 0  \n",
       "NIFTY-I                 0  \n",
       "NIFTY-I                 0  "
      ]
     },
     "execution_count": 9,
     "metadata": {},
     "output_type": "execute_result"
    }
   ],
   "source": [
    "df.head()"
   ]
  },
  {
   "cell_type": "code",
   "execution_count": null,
   "metadata": {},
   "outputs": [],
   "source": []
  }
 ],
 "metadata": {
  "kernelspec": {
   "display_name": "Python 3",
   "language": "python",
   "name": "python3"
  },
  "language_info": {
   "codemirror_mode": {
    "name": "ipython",
    "version": 3
   },
   "file_extension": ".py",
   "mimetype": "text/x-python",
   "name": "python",
   "nbconvert_exporter": "python",
   "pygments_lexer": "ipython3",
   "version": "3.6.8"
  }
 },
 "nbformat": 4,
 "nbformat_minor": 2
}
