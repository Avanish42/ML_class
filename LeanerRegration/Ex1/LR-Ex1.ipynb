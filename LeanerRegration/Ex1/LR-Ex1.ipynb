{
 "cells": [
  {
   "cell_type": "code",
   "execution_count": 1,
   "metadata": {},
   "outputs": [],
   "source": [
    "import numpy as np\n",
    "import pandas as pd"
   ]
  },
  {
   "cell_type": "code",
   "execution_count": 19,
   "metadata": {},
   "outputs": [
    {
     "data": {
      "text/plain": [
       "Index(['Restaurant ID', 'Restaurant Name', 'Country Code', 'City', 'Address',\n",
       "       'Locality', 'Locality Verbose', 'Longitude', 'Latitude', 'Cuisines',\n",
       "       'Average Cost for two', 'Currency', 'Has Table booking',\n",
       "       'Has Online delivery', 'Is delivering now', 'Switch to order menu',\n",
       "       'Price range', 'Aggregate rating', 'Rating color', 'Rating text',\n",
       "       'Votes'],\n",
       "      dtype='object')"
      ]
     },
     "execution_count": 19,
     "metadata": {},
     "output_type": "execute_result"
    }
   ],
   "source": [
    "df= pd.read_csv('train.csv')\n",
    "# df.shape\n",
    "df1=pd.read_csv('zomato.csv',encoding = \"ISO-8859-1\", engine='python')\n",
    "df1.columns\n"
   ]
  },
  {
   "cell_type": "code",
   "execution_count": 22,
   "metadata": {},
   "outputs": [
    {
     "data": {
      "text/html": [
       "<div>\n",
       "<style>\n",
       "    .dataframe thead tr:only-child th {\n",
       "        text-align: right;\n",
       "    }\n",
       "\n",
       "    .dataframe thead th {\n",
       "        text-align: left;\n",
       "    }\n",
       "\n",
       "    .dataframe tbody tr th {\n",
       "        vertical-align: top;\n",
       "    }\n",
       "</style>\n",
       "<table border=\"1\" class=\"dataframe\">\n",
       "  <thead>\n",
       "    <tr style=\"text-align: right;\">\n",
       "      <th></th>\n",
       "      <th>Restaurant ID</th>\n",
       "      <th>Restaurant Name</th>\n",
       "      <th>Country Code</th>\n",
       "      <th>City</th>\n",
       "      <th>Address</th>\n",
       "      <th>Locality</th>\n",
       "      <th>Locality Verbose</th>\n",
       "      <th>Longitude</th>\n",
       "      <th>Latitude</th>\n",
       "      <th>Cuisines</th>\n",
       "      <th>...</th>\n",
       "      <th>Currency</th>\n",
       "      <th>Has Table booking</th>\n",
       "      <th>Has Online delivery</th>\n",
       "      <th>Is delivering now</th>\n",
       "      <th>Switch to order menu</th>\n",
       "      <th>Price range</th>\n",
       "      <th>Aggregate rating</th>\n",
       "      <th>Rating color</th>\n",
       "      <th>Rating text</th>\n",
       "      <th>Votes</th>\n",
       "    </tr>\n",
       "  </thead>\n",
       "  <tbody>\n",
       "    <tr>\n",
       "      <th>0</th>\n",
       "      <td>6317637</td>\n",
       "      <td>Le Petit Souffle</td>\n",
       "      <td>162</td>\n",
       "      <td>Makati City</td>\n",
       "      <td>Third Floor, Century City Mall, Kalayaan Avenu...</td>\n",
       "      <td>Century City Mall, Poblacion, Makati City</td>\n",
       "      <td>Century City Mall, Poblacion, Makati City, Mak...</td>\n",
       "      <td>121.027535</td>\n",
       "      <td>14.565443</td>\n",
       "      <td>French, Japanese, Desserts</td>\n",
       "      <td>...</td>\n",
       "      <td>Botswana Pula(P)</td>\n",
       "      <td>Yes</td>\n",
       "      <td>No</td>\n",
       "      <td>No</td>\n",
       "      <td>No</td>\n",
       "      <td>3</td>\n",
       "      <td>4.8</td>\n",
       "      <td>Dark Green</td>\n",
       "      <td>Excellent</td>\n",
       "      <td>314</td>\n",
       "    </tr>\n",
       "  </tbody>\n",
       "</table>\n",
       "<p>1 rows × 21 columns</p>\n",
       "</div>"
      ],
      "text/plain": [
       "   Restaurant ID   Restaurant Name  Country Code         City  \\\n",
       "0        6317637  Le Petit Souffle           162  Makati City   \n",
       "\n",
       "                                             Address  \\\n",
       "0  Third Floor, Century City Mall, Kalayaan Avenu...   \n",
       "\n",
       "                                    Locality  \\\n",
       "0  Century City Mall, Poblacion, Makati City   \n",
       "\n",
       "                                    Locality Verbose   Longitude   Latitude  \\\n",
       "0  Century City Mall, Poblacion, Makati City, Mak...  121.027535  14.565443   \n",
       "\n",
       "                     Cuisines  ...           Currency Has Table booking  \\\n",
       "0  French, Japanese, Desserts  ...   Botswana Pula(P)               Yes   \n",
       "\n",
       "  Has Online delivery Is delivering now Switch to order menu Price range  \\\n",
       "0                  No                No                   No           3   \n",
       "\n",
       "   Aggregate rating  Rating color Rating text Votes  \n",
       "0               4.8    Dark Green   Excellent   314  \n",
       "\n",
       "[1 rows x 21 columns]"
      ]
     },
     "execution_count": 22,
     "metadata": {},
     "output_type": "execute_result"
    }
   ],
   "source": [
    "df1.head(1)"
   ]
  },
  {
   "cell_type": "code",
   "execution_count": 32,
   "metadata": {},
   "outputs": [
    {
     "data": {
      "text/plain": [
       "628                            Pinch Of Spice\n",
       "630                     Peshawri - ITC Mughal\n",
       "635                    Dasaprakash Restaurant\n",
       "637                           Sheroes Hangout\n",
       "641                                 Pizza Hut\n",
       "642          Tea'se Me - Rooftop Tea Boutique\n",
       "643                                Thaaliwala\n",
       "644                  650 - The Global Kitchen\n",
       "646                             Huber & Holly\n",
       "647                                    @Mango\n",
       "648                        Fozzie's Pizzaiolo\n",
       "649                           La Pino'z Pizza\n",
       "650                                     Mocha\n",
       "653                                  Cryo Lab\n",
       "654                              Swati Snacks\n",
       "655                             Brick Kitchen\n",
       "657                                  Puffizza\n",
       "659                           The Cafe Baraco\n",
       "660                            Nini's Kitchen\n",
       "661                            Yanki Sizzlers\n",
       "662                The Garden Cafe - The Fern\n",
       "701                    Gurdas Ram Jalebi Wala\n",
       "702                           Kesar Da Dhabha\n",
       "705                              Kanha Sweets\n",
       "726                          Sultans of Spice\n",
       "727          The Fatty Bao - Asian Gastro Bar\n",
       "728                                      Toit\n",
       "730                          Bombay Brasserie\n",
       "732                                    Onesta\n",
       "733                                    Onesta\n",
       "                        ...                  \n",
       "9173                           Barbeque Ville\n",
       "9194                           Saffron Mantra\n",
       "9195                               Coffee Cup\n",
       "9198                                Thalaivaa\n",
       "9200                            Golden Dragon\n",
       "9203                           Falafel Lovers\n",
       "9204                         The Centre Court\n",
       "9206    Leonardo Italian Mediterranean Dining\n",
       "9209                             Black Pepper\n",
       "9210                                Pizza Hut\n",
       "9211                       The Sizzling Salsa\n",
       "9216                            22nd Parallel\n",
       "9220                          Barbeque Nation\n",
       "9221                             Little Italy\n",
       "9223                               That Place\n",
       "9228        La Quello - Mediterranean Kitchen\n",
       "9232                           Coffee Culture\n",
       "9233               Freshco - The Health Cafí©\n",
       "9234                                Pizza Hut\n",
       "9235                                 Tomato's\n",
       "9244                       Kashi Chat Bhandar\n",
       "9256                                Pizza Hut\n",
       "9257                                Pizza Hut\n",
       "9258                       Sri Sairam Parlour\n",
       "9259                 Mekong - Hotel GreenPark\n",
       "9260               The Square - Hotel Novotel\n",
       "9262                          Barbeque Nation\n",
       "9269                              Six Degrees\n",
       "9273                                  Plot 17\n",
       "9275                 Flying Spaghetti Monster\n",
       "Name: Restaurant Name, Length: 615, dtype: object"
      ]
     },
     "execution_count": 32,
     "metadata": {},
     "output_type": "execute_result"
    }
   ],
   "source": [
    "df1[('Restaurant Name')][(df1['Aggregate rating']>4) & (df1['Currency']=='Indian Rupees(Rs.)')]"
   ]
  },
  {
   "cell_type": "code",
   "execution_count": null,
   "metadata": {},
   "outputs": [],
   "source": []
  }
 ],
 "metadata": {
  "kernelspec": {
   "display_name": "Python 3",
   "language": "python",
   "name": "python3"
  },
  "language_info": {
   "codemirror_mode": {
    "name": "ipython",
    "version": 3
   },
   "file_extension": ".py",
   "mimetype": "text/x-python",
   "name": "python",
   "nbconvert_exporter": "python",
   "pygments_lexer": "ipython3",
   "version": "3.6.8"
  }
 },
 "nbformat": 4,
 "nbformat_minor": 2
}
